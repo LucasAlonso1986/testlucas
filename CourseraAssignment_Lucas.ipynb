{
 "cells": [
  {
   "cell_type": "markdown",
   "id": "31ddb04e-b9d1-4d56-a15b-796c110b1f66",
   "metadata": {},
   "source": [
    "# My Jupyter Notebook on IBM Watson Studio"
   ]
  },
  {
   "cell_type": "markdown",
   "id": "6816eaad-26bd-4b06-bf97-5b5c59e7b738",
   "metadata": {},
   "source": [
    "**Lucas Alonso**\n",
    "\n",
    "EMEA Copilot Lead"
   ]
  },
  {
   "cell_type": "markdown",
   "id": "4bcc0948-75cd-4a36-9c01-b62f16a00d3c",
   "metadata": {},
   "source": [
    "*I am interested in data science because I often need to engage with data scientists in my current role*"
   ]
  },
  {
   "cell_type": "markdown",
   "id": "85239397-c236-4352-897a-78139e5557ad",
   "metadata": {
    "tags": []
   },
   "source": [
    "### My code in Cell 4  will calculate an easy math operations"
   ]
  },
  {
   "cell_type": "code",
   "execution_count": 3,
   "id": "bed83c33-f242-41e2-9f37-1dd2e3ce979e",
   "metadata": {},
   "outputs": [
    {
     "data": {
      "text/plain": [
       "20"
      ]
     },
     "execution_count": 3,
     "metadata": {},
     "output_type": "execute_result"
    }
   ],
   "source": [
    "10*2"
   ]
  },
  {
   "cell_type": "markdown",
   "id": "3f11fe99-d7da-4539-a5ec-c215f1459101",
   "metadata": {},
   "source": [
    "[Find more in ibm.com](https://www.ibm.com/)\n",
    "> This is a blockquote\n",
    "\n",
    "\n",
    "\n",
    "\n"
   ]
  },
  {
   "cell_type": "code",
   "execution_count": null,
   "id": "ecd3c28c-c90d-4811-96d0-6213fa70ac8f",
   "metadata": {},
   "outputs": [],
   "source": []
  }
 ],
 "metadata": {
  "kernelspec": {
   "display_name": "Python",
   "language": "python",
   "name": "conda-env-python-py"
  },
  "language_info": {
   "codemirror_mode": {
    "name": "ipython",
    "version": 3
   },
   "file_extension": ".py",
   "mimetype": "text/x-python",
   "name": "python",
   "nbconvert_exporter": "python",
   "pygments_lexer": "ipython3",
   "version": "3.7.12"
  }
 },
 "nbformat": 4,
 "nbformat_minor": 5
}
