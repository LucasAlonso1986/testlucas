{
 "cells": [
  {
   "cell_type": "markdown",
   "id": "31ddb04e-b9d1-4d56-a15b-796c110b1f66",
   "metadata": {},
   "source": [
    "# Lucas Alonso Notebook Coursera Assignemnt"
   ]
  },
  {
   "cell_type": "markdown",
   "id": "6816eaad-26bd-4b06-bf97-5b5c59e7b738",
   "metadata": {},
   "source": [
    "**Lucas Alonso**\n",
    "\n",
    "EMEA Copilot Lead"
   ]
  },
  {
   "cell_type": "markdown",
   "id": "4bcc0948-75cd-4a36-9c01-b62f16a00d3c",
   "metadata": {},
   "source": [
    "*I am interested in data science because I often need to engage with data scientists in my current role*"
   ]
  },
  {
   "cell_type": "markdown",
   "id": "85239397-c236-4352-897a-78139e5557ad",
   "metadata": {
    "tags": []
   },
   "source": [
    "### My code in Cell 4  will calculate an easy math operations"
   ]
  },
  {
   "cell_type": "code",
   "execution_count": 3,
   "id": "bed83c33-f242-41e2-9f37-1dd2e3ce979e",
   "metadata": {},
   "outputs": [
    {
     "data": {
      "text/plain": [
       "20"
      ]
     },
     "execution_count": 3,
     "metadata": {},
     "output_type": "execute_result"
    }
   ],
   "source": [
    "10*2"
   ]
  },
  {
   "cell_type": "markdown",
   "id": "3f11fe99-d7da-4539-a5ec-c215f1459101",
   "metadata": {},
   "source": [
    "[Find more in ibm.com](https://www.ibm.com/)\n",
    "> This is a blockquote"
   ]
  },
  {
   "cell_type": "markdown",
   "id": "29cdd521-c2d4-4cfa-8756-e4db13843e7c",
   "metadata": {},
   "source": [
    "**List of data science libraries**\n",
    "* TensorFlow\n",
    "* NumPy\n",
    "* SciPy\n",
    "* Scrapy"
   ]
  },
  {
   "cell_type": "markdown",
   "id": "8b193628-c284-4ee0-ae1b-74288d387d51",
   "metadata": {},
   "source": [
    "**List of data science languages**\n",
    "* R\n",
    "* SQL\n",
    "* Scala\n"
   ]
  },
  {
   "cell_type": "markdown",
   "id": "7c0a4d11-9e2b-4d31-ac0f-37521bd5f556",
   "metadata": {},
   "source": [
    "| List  | Tools | \n",
    "|:-----------| --------:|\n",
    "| - 1 - | TensorFlow |\n",
    "| - 2 - | Jupyter Notebook |\n"
   ]
  },
  {
   "cell_type": "markdown",
   "id": "bd7aba6d-527b-4d97-9992-e9a9a819ae5a",
   "metadata": {},
   "source": [
    "This sentence uses `$` delimiters to show math inline:  $\\sqrt{3x-1}+(1+x)^2"
   ]
  },
  {
   "cell_type": "code",
   "execution_count": 6,
   "id": "552ff734-20f0-48d5-8308-796ade451073",
   "metadata": {},
   "outputs": [
    {
     "data": {
      "text/plain": [
       "7"
      ]
     },
     "execution_count": 6,
     "metadata": {},
     "output_type": "execute_result"
    }
   ],
   "source": [
    "3*2+1"
   ]
  },
  {
   "cell_type": "markdown",
   "id": "b6ef1f5a-b82c-4036-9b58-42baedf282e5",
   "metadata": {},
   "source": [
    "**List of objectives**\n",
    "\n",
    "* Objective 2\n",
    "* Objective 23\n",
    "* Objective 1\n"
   ]
  },
  {
   "cell_type": "code",
   "execution_count": null,
   "id": "a57ab713-74dd-4ce1-b86d-b3b9f829dfc7",
   "metadata": {},
   "outputs": [],
   "source": []
  }
 ],
 "metadata": {
  "kernelspec": {
   "display_name": "Python",
   "language": "python",
   "name": "conda-env-python-py"
  },
  "language_info": {
   "codemirror_mode": {
    "name": "ipython",
    "version": 3
   },
   "file_extension": ".py",
   "mimetype": "text/x-python",
   "name": "python",
   "nbconvert_exporter": "python",
   "pygments_lexer": "ipython3",
   "version": "3.7.12"
  }
 },
 "nbformat": 4,
 "nbformat_minor": 5
}
